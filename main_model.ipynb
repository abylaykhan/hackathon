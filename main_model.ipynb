{
 "cells": [
  {
   "cell_type": "code",
   "execution_count": 3,
   "id": "272a1a96",
   "metadata": {},
   "outputs": [],
   "source": [
    "import pandas as pd\n",
    "import numpy as np\n",
    "\n",
    "from sklearn.metrics import roc_auc_score\n",
    "from sklearn.model_selection import train_test_split\n",
    "from  lightgbm import LGBMClassifier\n",
    "from sklearn.ensemble import RandomForestClassifier\n",
    "from imblearn.over_sampling import SMOTE\n",
    "from collections import Counter\n",
    "from imblearn.over_sampling import RandomOverSampler\n",
    "from sklearn.metrics import precision_recall_curve, auc\n",
    "from lightgbm import LGBMClassifier\n",
    "import yaml\n",
    "\n",
    "pd.set_option('display.max_columns', None)"
   ]
  },
  {
   "cell_type": "code",
   "execution_count": 4,
   "id": "4d9c3be0",
   "metadata": {},
   "outputs": [],
   "source": [
    "with open(\"config.yaml\", \"r\") as file:\n",
    "    config = yaml.safe_load(file)"
   ]
  },
  {
   "cell_type": "code",
   "execution_count": 5,
   "id": "42bb8b2e",
   "metadata": {},
   "outputs": [],
   "source": [
    "df_test = pd.read_parquet('./amplituda_features.parquet')\n",
    "\n",
    "application_data = pd.read_parquet('./valid_app_data.parquet')\n",
    "\n",
    "df_test.columns = df_test.columns.str.lower()\n",
    "application_data.columns = application_data.columns.str.lower()\n",
    "\n",
    "df_test = pd.merge(df_test, application_data, how='outer', on=['applicationid'])\n",
    "\n",
    "target_data = pd.read_parquet('./valid_target_df.parquet')\n",
    "target_data.columns = target_data.columns.str.lower()\n"
   ]
  },
  {
   "cell_type": "code",
   "execution_count": 6,
   "id": "b608536d",
   "metadata": {},
   "outputs": [],
   "source": [
    "        \n",
    "df_test = df_test.rename(columns=lambda x: x.strip())\n",
    "df_test.columns = df_test.columns.str.upper()\n",
    "df_test['TOTALAMOUNT'] = df_test['TOTALAMOUNT'].str.replace(' ', '').astype('float64')\n",
    "df_test['SUM_CREDIT_KZT'] = df_test['SUM_CREDIT_KZT'].str.replace(' ', '').astype('float64')\n",
    "df_test['DM5DPD1GCVPSUM'] = (df_test['DM5DPD1GCVPSUM'].str.replace(' ', '').str.replace(',', '.').str.replace('-', '0')).astype('float64')\n",
    "df_test['DM5EXPSUM'] = (df_test['DM5EXPSUM'].str.replace(' ', '').str.replace(',', '.').str.replace('-', '0')).astype('float64')\n",
    "df_test['DM5INCSUM'] = (df_test['DM5INCSUM'].str.replace(' ', '').str.replace(',', '.').str.replace('-', '0')).astype('float64')\n",
    "df_test['DM6SCOREN6PD'] = (df_test['DM6SCOREN6PD'].str.replace(' ', '').str.replace(',', '.').str.replace('-', '0')).astype('float64')\n",
    "df_test['DM6SCOREN6'] = (df_test['DM6SCOREN6'].str.replace(' ', '').str.replace(',', '.').str.replace('-', '0')).astype('float64')\n",
    "df_test['FINALKDN'] = (df_test['FINALKDN'].str.replace(' ', '').str.replace(',', '.').str.replace('-', '0')).astype('float64')\n",
    "df_test.columns = df_test.columns.str.lower()"
   ]
  },
  {
   "cell_type": "code",
   "execution_count": 7,
   "id": "ffc3a7e7",
   "metadata": {},
   "outputs": [],
   "source": [
    "id_cols = ['applicationid', 'create_date', 'create_datetime', 'data_issue',\\\n",
    "            'vintage', 'product_group', 'regregion', 'company_name', 'spf', \\\n",
    "                'mng_name_login_init', 'mng_name_init', 'regtown', 'birthcountry', 'regcounty', 'target']\n",
    "\n",
    "id_cols += ['last_event_type', 'second_last_event_type', 'most_common_device_type']"
   ]
  },
  {
   "cell_type": "code",
   "execution_count": 8,
   "id": "00876d63",
   "metadata": {},
   "outputs": [],
   "source": [
    "with open(\"feature_mapping.yaml\", \"r\") as file:\n",
    "    feature_mapping = yaml.safe_load(file)"
   ]
  },
  {
   "cell_type": "code",
   "execution_count": 9,
   "id": "4759b3b4",
   "metadata": {},
   "outputs": [],
   "source": [
    "for key in feature_mapping:\n",
    "    df_test[key] = df_test[key].map(feature_mapping[key])"
   ]
  },
  {
   "cell_type": "code",
   "execution_count": 10,
   "id": "0b498960",
   "metadata": {},
   "outputs": [],
   "source": [
    "audio_pd = pd.read_parquet('validation_audio_pd.parquet')\n",
    "audio_pd.columns = audio_pd.columns.str.lower()\n",
    "df_test = pd.merge(df_test, audio_pd, how='left', on=['applicationid'])\n",
    "df_test = df_test.drop_duplicates(subset=['applicationid'], keep='first')"
   ]
  },
  {
   "cell_type": "code",
   "execution_count": 11,
   "id": "96252808",
   "metadata": {},
   "outputs": [],
   "source": [
    "import pickle"
   ]
  },
  {
   "cell_type": "code",
   "execution_count": 12,
   "id": "ee2c8ed3",
   "metadata": {},
   "outputs": [],
   "source": [
    "scaler = pickle.load(open('scaler.pkl', 'rb'))"
   ]
  },
  {
   "cell_type": "code",
   "execution_count": 13,
   "id": "bcdf3fc8",
   "metadata": {},
   "outputs": [],
   "source": [
    "X = pd.DataFrame(scaler.transform(df_test[config['scaler_cols']]), columns=config['scaler_cols'])"
   ]
  },
  {
   "cell_type": "code",
   "execution_count": 15,
   "id": "5d74ba59",
   "metadata": {},
   "outputs": [],
   "source": [
    "model = pickle.load(open('model.pkl', 'rb'))"
   ]
  },
  {
   "cell_type": "code",
   "execution_count": null,
   "id": "222242f2",
   "metadata": {},
   "outputs": [],
   "source": [
    "df_test['FINAL_PD'] = model.predict_proba(X[config['final_cols']])[:,1]\n",
    "df_test['PRED'] = model.predict(X[config['final_cols']])\n",
    "df_test[['applicationid', 'FINAL_PD', 'PRED']].to_csv('results.csv', index=False)"
   ]
  },
  {
   "cell_type": "code",
   "execution_count": null,
   "id": "fa7fc006",
   "metadata": {},
   "outputs": [],
   "source": []
  }
 ],
 "metadata": {
  "kernelspec": {
   "display_name": "py311",
   "language": "python",
   "name": "python3"
  },
  "language_info": {
   "codemirror_mode": {
    "name": "ipython",
    "version": 3
   },
   "file_extension": ".py",
   "mimetype": "text/x-python",
   "name": "python",
   "nbconvert_exporter": "python",
   "pygments_lexer": "ipython3",
   "version": "3.11.13"
  }
 },
 "nbformat": 4,
 "nbformat_minor": 5
}
