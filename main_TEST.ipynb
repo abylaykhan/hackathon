{
 "cells": [
  {
   "cell_type": "code",
   "execution_count": 34,
   "id": "272a1a96",
   "metadata": {},
   "outputs": [],
   "source": [
    "import pandas as pd\n",
    "import numpy as np\n",
    "\n",
    "from sklearn.metrics import roc_auc_score\n",
    "from sklearn.model_selection import train_test_split\n",
    "from  lightgbm import LGBMClassifier\n",
    "from sklearn.ensemble import RandomForestClassifier\n",
    "from imblearn.over_sampling import SMOTE\n",
    "from collections import Counter\n",
    "from imblearn.over_sampling import RandomOverSampler\n",
    "from sklearn.metrics import precision_recall_curve, auc\n",
    "from lightgbm import LGBMClassifier\n",
    "import yaml\n",
    "\n",
    "pd.set_option('display.max_columns', None)"
   ]
  },
  {
   "cell_type": "code",
   "execution_count": 35,
   "id": "4d9c3be0",
   "metadata": {},
   "outputs": [],
   "source": [
    "with open(\"config.yaml\", \"r\") as file:\n",
    "    config = yaml.safe_load(file)"
   ]
  },
  {
   "cell_type": "code",
   "execution_count": 48,
   "id": "42bb8b2e",
   "metadata": {},
   "outputs": [],
   "source": [
    "df_test1 = pd.read_parquet('./data_features/new_test_with_features_0.parquet')\n",
    "df_test2 = pd.read_parquet('./data_features/new_test_with_features_1.parquet')\n",
    "\n",
    "df_test = pd.concat([df_test1, df_test2])\n",
    "\n",
    "application_data = pd.read_parquet('./data/test_app_data.parquet')\n",
    "\n",
    "df_test.columns = df_test.columns.str.lower()\n",
    "application_data.columns = application_data.columns.str.lower()\n",
    "\n",
    "df_test = pd.merge(df_test, application_data, how='outer', on=['applicationid'])\n",
    "\n",
    "target_data = pd.read_parquet('./data/test_target_data.parquet')\n",
    "target_data.columns = target_data.columns.str.lower()\n",
    "\n",
    "\n",
    "df_test = pd.merge(df_test, target_data[['applicationid', 'target']], how='outer', indicator=True)\n",
    "df_test = df_test.query(\"_merge == 'both'\")"
   ]
  },
  {
   "cell_type": "code",
   "execution_count": 49,
   "id": "b608536d",
   "metadata": {},
   "outputs": [],
   "source": [
    "        \n",
    "df_test = df_test.rename(columns=lambda x: x.strip())\n",
    "df_test.columns = df_test.columns.str.upper()\n",
    "df_test['TOTALAMOUNT'] = df_test['TOTALAMOUNT'].str.replace(' ', '').astype('float64')\n",
    "df_test['SUM_CREDIT_KZT'] = df_test['SUM_CREDIT_KZT'].str.replace(' ', '').astype('float64')\n",
    "df_test['DM5DPD1GCVPSUM'] = (df_test['DM5DPD1GCVPSUM'].str.replace(' ', '').str.replace(',', '.').str.replace('-', '0')).astype('float64')\n",
    "df_test['DM5EXPSUM'] = (df_test['DM5EXPSUM'].str.replace(' ', '').str.replace(',', '.').str.replace('-', '0')).astype('float64')\n",
    "df_test['DM5INCSUM'] = (df_test['DM5INCSUM'].str.replace(' ', '').str.replace(',', '.').str.replace('-', '0')).astype('float64')\n",
    "df_test['DM6SCOREN6PD'] = (df_test['DM6SCOREN6PD'].str.replace(' ', '').str.replace(',', '.').str.replace('-', '0')).astype('float64')\n",
    "df_test['DM6SCOREN6'] = (df_test['DM6SCOREN6'].str.replace(' ', '').str.replace(',', '.').str.replace('-', '0')).astype('float64')\n",
    "df_test['FINALKDN'] = (df_test['FINALKDN'].str.replace(' ', '').str.replace(',', '.').str.replace('-', '0')).astype('float64')\n",
    "df_test.columns = df_test.columns.str.lower()"
   ]
  },
  {
   "cell_type": "code",
   "execution_count": 50,
   "id": "ffc3a7e7",
   "metadata": {},
   "outputs": [],
   "source": [
    "id_cols = ['applicationid', 'create_date', 'create_datetime', 'data_issue',\\\n",
    "            'vintage', 'product_group', 'regregion', 'company_name', 'spf', \\\n",
    "                'mng_name_login_init', 'mng_name_init', 'regtown', 'birthcountry', 'regcounty', 'target']\n",
    "\n",
    "id_cols += ['last_event_type', 'second_last_event_type', 'most_common_device_type']"
   ]
  },
  {
   "cell_type": "code",
   "execution_count": 51,
   "id": "00876d63",
   "metadata": {},
   "outputs": [],
   "source": [
    "with open(\"feature_mapping.yaml\", \"r\") as file:\n",
    "    feature_mapping = yaml.safe_load(file)"
   ]
  },
  {
   "cell_type": "code",
   "execution_count": 52,
   "id": "4759b3b4",
   "metadata": {},
   "outputs": [],
   "source": [
    "for key in feature_mapping:\n",
    "    df_test[key] = df_test[key].map(feature_mapping[key])"
   ]
  },
  {
   "cell_type": "code",
   "execution_count": 53,
   "id": "0b498960",
   "metadata": {},
   "outputs": [],
   "source": [
    "audio_pd = pd.read_parquet('data_features/audio_pd.parquet')\n",
    "audio_pd.columns = audio_pd.columns.str.lower()\n",
    "df_test = pd.merge(df_test, audio_pd, how='left', on=['applicationid'])\n",
    "df_test = df_test.drop_duplicates(subset=['applicationid'], keep='first')"
   ]
  },
  {
   "cell_type": "code",
   "execution_count": 54,
   "id": "96252808",
   "metadata": {},
   "outputs": [],
   "source": [
    "import pickle"
   ]
  },
  {
   "cell_type": "code",
   "execution_count": 55,
   "id": "ee2c8ed3",
   "metadata": {},
   "outputs": [],
   "source": [
    "scaler = pickle.load(open('scaler.pkl', 'rb'))"
   ]
  },
  {
   "cell_type": "code",
   "execution_count": 56,
   "id": "bcdf3fc8",
   "metadata": {},
   "outputs": [],
   "source": [
    "X = pd.DataFrame(scaler.transform(df_test[config['scaler_cols']]), columns=config['scaler_cols'])"
   ]
  },
  {
   "cell_type": "code",
   "execution_count": 57,
   "id": "5d74ba59",
   "metadata": {},
   "outputs": [],
   "source": [
    "model = pickle.load(open('model.pkl', 'rb'))"
   ]
  },
  {
   "cell_type": "code",
   "execution_count": 58,
   "id": "222242f2",
   "metadata": {},
   "outputs": [],
   "source": [
    "df_test['FINAL_PD'] = model.predict_proba(X[config['final_cols']])[:,1]"
   ]
  },
  {
   "cell_type": "code",
   "execution_count": 59,
   "id": "4fd3241b",
   "metadata": {},
   "outputs": [],
   "source": [
    "def pr_auc(y, pred):\n",
    "    precision, recall, _ = precision_recall_curve(y, pred)\n",
    "    return auc(recall, precision)"
   ]
  },
  {
   "cell_type": "code",
   "execution_count": 60,
   "id": "ac4e3c24",
   "metadata": {},
   "outputs": [
    {
     "data": {
      "text/plain": [
       "0.2901493363855641"
      ]
     },
     "execution_count": 60,
     "metadata": {},
     "output_type": "execute_result"
    }
   ],
   "source": [
    "pr_auc(df_test['target'], df_test['FINAL_PD'])"
   ]
  },
  {
   "cell_type": "code",
   "execution_count": null,
   "id": "1339b32d",
   "metadata": {},
   "outputs": [],
   "source": []
  },
  {
   "cell_type": "code",
   "execution_count": 61,
   "id": "294d749c",
   "metadata": {},
   "outputs": [
    {
     "data": {
      "text/html": [
       "<div>\n",
       "<style scoped>\n",
       "    .dataframe tbody tr th:only-of-type {\n",
       "        vertical-align: middle;\n",
       "    }\n",
       "\n",
       "    .dataframe tbody tr th {\n",
       "        vertical-align: top;\n",
       "    }\n",
       "\n",
       "    .dataframe thead th {\n",
       "        text-align: right;\n",
       "    }\n",
       "</style>\n",
       "<table border=\"1\" class=\"dataframe\">\n",
       "  <thead>\n",
       "    <tr style=\"text-align: right;\">\n",
       "      <th></th>\n",
       "      <th>applicationid</th>\n",
       "      <th>FINAL_PD</th>\n",
       "    </tr>\n",
       "  </thead>\n",
       "  <tbody>\n",
       "    <tr>\n",
       "      <th>0</th>\n",
       "      <td>Д\\286\\011895433</td>\n",
       "      <td>0.027777</td>\n",
       "    </tr>\n",
       "    <tr>\n",
       "      <th>1</th>\n",
       "      <td>Д\\286\\011895453</td>\n",
       "      <td>0.007144</td>\n",
       "    </tr>\n",
       "    <tr>\n",
       "      <th>2</th>\n",
       "      <td>Д\\286\\011895475</td>\n",
       "      <td>0.006555</td>\n",
       "    </tr>\n",
       "    <tr>\n",
       "      <th>3</th>\n",
       "      <td>Д\\286\\011895518</td>\n",
       "      <td>0.003381</td>\n",
       "    </tr>\n",
       "    <tr>\n",
       "      <th>4</th>\n",
       "      <td>Д\\286\\011895559</td>\n",
       "      <td>0.007509</td>\n",
       "    </tr>\n",
       "    <tr>\n",
       "      <th>...</th>\n",
       "      <td>...</td>\n",
       "      <td>...</td>\n",
       "    </tr>\n",
       "    <tr>\n",
       "      <th>5801</th>\n",
       "      <td>Д\\286\\012041434</td>\n",
       "      <td>0.010941</td>\n",
       "    </tr>\n",
       "    <tr>\n",
       "      <th>5802</th>\n",
       "      <td>Д\\286\\012041437</td>\n",
       "      <td>0.082940</td>\n",
       "    </tr>\n",
       "    <tr>\n",
       "      <th>5803</th>\n",
       "      <td>Д\\286\\012041504</td>\n",
       "      <td>0.002474</td>\n",
       "    </tr>\n",
       "    <tr>\n",
       "      <th>5804</th>\n",
       "      <td>Д\\286\\012041576</td>\n",
       "      <td>0.002328</td>\n",
       "    </tr>\n",
       "    <tr>\n",
       "      <th>5805</th>\n",
       "      <td>Д\\286\\012041658</td>\n",
       "      <td>0.004913</td>\n",
       "    </tr>\n",
       "  </tbody>\n",
       "</table>\n",
       "<p>5528 rows × 2 columns</p>\n",
       "</div>"
      ],
      "text/plain": [
       "        applicationid  FINAL_PD\n",
       "0     Д\\286\\011895433  0.027777\n",
       "1     Д\\286\\011895453  0.007144\n",
       "2     Д\\286\\011895475  0.006555\n",
       "3     Д\\286\\011895518  0.003381\n",
       "4     Д\\286\\011895559  0.007509\n",
       "...               ...       ...\n",
       "5801  Д\\286\\012041434  0.010941\n",
       "5802  Д\\286\\012041437  0.082940\n",
       "5803  Д\\286\\012041504  0.002474\n",
       "5804  Д\\286\\012041576  0.002328\n",
       "5805  Д\\286\\012041658  0.004913\n",
       "\n",
       "[5528 rows x 2 columns]"
      ]
     },
     "execution_count": 61,
     "metadata": {},
     "output_type": "execute_result"
    }
   ],
   "source": [
    "df_test[['applicationid', 'FINAL_PD']]"
   ]
  },
  {
   "cell_type": "code",
   "execution_count": null,
   "id": "133e52c4",
   "metadata": {},
   "outputs": [],
   "source": []
  }
 ],
 "metadata": {
  "kernelspec": {
   "display_name": "py311",
   "language": "python",
   "name": "python3"
  },
  "language_info": {
   "codemirror_mode": {
    "name": "ipython",
    "version": 3
   },
   "file_extension": ".py",
   "mimetype": "text/x-python",
   "name": "python",
   "nbconvert_exporter": "python",
   "pygments_lexer": "ipython3",
   "version": "3.11.13"
  }
 },
 "nbformat": 4,
 "nbformat_minor": 5
}
