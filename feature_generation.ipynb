{
 "cells": [
  {
   "cell_type": "code",
   "execution_count": 1,
   "id": "60fcd54e",
   "metadata": {},
   "outputs": [],
   "source": [
    "import pandas as pd\n",
    "import numpy as np\n",
    "\n",
    "def create_application_features(data: pd.DataFrame) -> pd.Series:\n",
    "    assert data['applicationid'].nunique() == 1\n",
    "\n",
    "    df = data.copy()\n",
    "    \n",
    "    # --- Дата-время ---\n",
    "    df['event_time'] = pd.to_datetime(df['event_time'])\n",
    "    df['client_event_time'] = pd.to_datetime(df['client_event_time'])\n",
    "    df['application_date'] = pd.to_datetime(df['application_date'])\n",
    "\n",
    "    app_date = df['application_date'].iloc[0]\n",
    "    df = df.sort_values('event_time')\n",
    "\n",
    "    # --- Временные признаки ---\n",
    "    time_span = (df['event_time'].max() - df['event_time'].min()).total_seconds()\n",
    "    events_before_app = (df['event_time'] < app_date).sum()\n",
    "    events_after_app = (df['event_time'] >= app_date).sum()\n",
    "    avg_time_diff = df['event_time'].diff().dt.total_seconds().mean()\n",
    "    max_time_diff = df['event_time'].diff().dt.total_seconds().max()\n",
    "    min_time_diff = df['event_time'].diff().dt.total_seconds().min()\n",
    "\n",
    "    # --- Типы событий ---\n",
    "    event_type_counts = df['event_type'].value_counts().to_dict()\n",
    "    unique_event_types = df['event_type'].nunique()\n",
    "\n",
    "    # --- Устройства ---\n",
    "    unique_devices = df['device_id'].nunique()\n",
    "    unique_device_types = df['device_type'].nunique()\n",
    "    device_switched = int(unique_devices > 1)\n",
    "\n",
    "    # --- Геолокация (если не NaN) ---\n",
    "    if df['location_lat'].notna().sum() > 1 and df['location_lng'].notna().sum() > 1:\n",
    "        df['lat_diff'] = df['location_lat'].diff().abs()\n",
    "        df['lng_diff'] = df['location_lng'].diff().abs()\n",
    "        df['geo_jump'] = ((df['lat_diff'] > 0.1) | (df['lng_diff'] > 0.1)).astype(int)\n",
    "        geo_jumps = df['geo_jump'].sum()\n",
    "    else:\n",
    "        geo_jumps = 0\n",
    "\n",
    "    # --- IP, регион, язык, платформа ---\n",
    "    unique_ips = df['ip_address'].nunique()\n",
    "    unique_languages = df['language'].nunique()\n",
    "    unique_platforms = df['platform'].nunique()\n",
    "    unique_os = df['os_name'].nunique()\n",
    "    unique_versions = df['version_name'].nunique()\n",
    "    unique_countries = df['country'].nunique()\n",
    "    unique_regions = df['region'].nunique()\n",
    "    unique_cities = df['city'].nunique()\n",
    "\n",
    "    # --- Сессии ---\n",
    "    unique_sessions = df['session_id'].nunique()\n",
    "    session_counts = df.groupby('session_id')['event_id'].count()\n",
    "    avg_session_len = session_counts.mean()\n",
    "    max_session_len = session_counts.max()\n",
    "\n",
    "    # --- Формирование фичей ---\n",
    "    features = {\n",
    "        'time_span_sec': time_span,\n",
    "        'events_before_app': events_before_app,\n",
    "        'events_after_app': events_after_app,\n",
    "        'avg_time_diff_sec': avg_time_diff,\n",
    "        'max_time_diff_sec': max_time_diff,\n",
    "        'min_time_diff_sec': min_time_diff,\n",
    "\n",
    "        'unique_event_types': unique_event_types,\n",
    "        **{f'event_type_count_{k}': v for k, v in event_type_counts.items()},\n",
    "\n",
    "        'unique_devices': unique_devices,\n",
    "        'unique_device_types': unique_device_types,\n",
    "        'device_switched': device_switched,\n",
    "\n",
    "        'geo_jumps': geo_jumps,\n",
    "\n",
    "        'unique_ips': unique_ips,\n",
    "        'unique_languages': unique_languages,\n",
    "        'unique_platforms': unique_platforms,\n",
    "        'unique_os': unique_os,\n",
    "        'unique_versions': unique_versions,\n",
    "        'unique_countries': unique_countries,\n",
    "        'unique_regions': unique_regions,\n",
    "        'unique_cities': unique_cities,\n",
    "\n",
    "        'unique_sessions': unique_sessions,\n",
    "        'avg_session_len': avg_session_len,\n",
    "        'max_session_len': max_session_len,\n",
    "\n",
    "        'applicationid': df['applicationid'].unique()[0]\n",
    "    }\n",
    "\n",
    "    return pd.Series(features)\n"
   ]
  },
  {
   "cell_type": "code",
   "execution_count": 2,
   "id": "133fbac5",
   "metadata": {},
   "outputs": [],
   "source": [
    "import pandas as pd\n",
    "import numpy as np\n",
    "\n",
    "def create_application_features(data: pd.DataFrame) -> pd.Series:\n",
    "    assert data['applicationid'].nunique() == 1\n",
    "\n",
    "    df = data.copy()\n",
    "    df = df.sort_values('event_time')\n",
    "\n",
    "    app_date = df['application_date'].iloc[0]\n",
    "\n",
    "    # Временные разности\n",
    "    time_diffs = df['event_time'].diff().dt.total_seconds().dropna()\n",
    "    time_span = (df['event_time'].max() - df['event_time'].min()).total_seconds()\n",
    "\n",
    "    # Активность вокруг даты заявки\n",
    "    events_before_app = (df['event_time'] < app_date).sum()\n",
    "    events_after_app = (df['event_time'] >= app_date).sum()\n",
    "    \n",
    "    # Интенсивность событий\n",
    "    avg_events_per_minute = len(df) / (time_span / 60) if time_span > 0 else 0\n",
    "    std_time_diff = time_diffs.std()\n",
    "    median_time_diff = time_diffs.median()\n",
    "    p95_time_diff = np.percentile(time_diffs, 95) if len(time_diffs) > 0 else 0\n",
    "\n",
    "    # Первое и последнее событие — от заявки\n",
    "    time_to_first_event = (df['event_time'].min() - app_date).total_seconds()\n",
    "    time_to_last_event = (df['event_time'].max() - app_date).total_seconds()\n",
    "\n",
    "    # Типы событий\n",
    "    event_type_counts = df['event_type'].value_counts().to_dict()\n",
    "    unique_event_types = df['event_type'].nunique()\n",
    "    top_event_type = df['event_type'].mode().iloc[0] if not df['event_type'].mode().empty else None\n",
    "\n",
    "    # Устройства\n",
    "    unique_devices = df['device_id'].nunique()\n",
    "    device_switched = int(unique_devices > 1)\n",
    "    switched_device_type = int(df['device_type'].nunique() > 1)\n",
    "    most_common_device_type = df['device_type'].mode().iloc[0] if not df['device_type'].mode().empty else None\n",
    "\n",
    "    # Геолокация\n",
    "    if df['location_lat'].notna().sum() > 1 and df['location_lng'].notna().sum() > 1:\n",
    "        df['lat_diff'] = df['location_lat'].diff().abs()\n",
    "        df['lng_diff'] = df['location_lng'].diff().abs()\n",
    "        df['geo_jump'] = ((df['lat_diff'] > 0.1) | (df['lng_diff'] > 0.1)).astype(int)\n",
    "        geo_jumps = df['geo_jump'].sum()\n",
    "        avg_lat_change = df['lat_diff'].mean()\n",
    "        avg_lng_change = df['lng_diff'].mean()\n",
    "    else:\n",
    "        geo_jumps = 0\n",
    "        avg_lat_change = 0\n",
    "        avg_lng_change = 0\n",
    "\n",
    "    # IP / регион\n",
    "    unique_ips = df['ip_address'].nunique()\n",
    "    unique_languages = df['language'].nunique()\n",
    "    unique_platforms = df['platform'].nunique()\n",
    "    unique_os = df['os_name'].nunique()\n",
    "    unique_versions = df['version_name'].nunique()\n",
    "    unique_countries = df['country'].nunique()\n",
    "    unique_regions = df['region'].nunique()\n",
    "    unique_cities = df['city'].nunique()\n",
    "\n",
    "    # Сессии\n",
    "    unique_sessions = df['session_id'].nunique()\n",
    "    session_counts = df.groupby('session_id')['event_id'].count()\n",
    "    avg_session_len = session_counts.mean()\n",
    "    max_session_len = session_counts.max()\n",
    "    session_length_std = session_counts.std()\n",
    "\n",
    "    # Сессионные метрики\n",
    "    first_session_len = session_counts.iloc[0] if len(session_counts) > 0 else 0\n",
    "    last_session_len = session_counts.iloc[-1] if len(session_counts) > 0 else 0\n",
    "    session_len_diff = last_session_len - first_session_len\n",
    "\n",
    "    # Временные зоны и часы активности\n",
    "    df['hour'] = df['event_time'].dt.hour\n",
    "    events_night = df[df['hour'].between(0, 6)].shape[0]\n",
    "    events_day = df[df['hour'].between(7, 18)].shape[0]\n",
    "    events_evening = df[df['hour'].between(19, 23)].shape[0]\n",
    "    most_active_hour = df['hour'].mode().iloc[0] if not df['hour'].mode().empty else -1\n",
    "\n",
    "    # Последовательность и последние действия\n",
    "    last_event_type = df['event_type'].iloc[-1]\n",
    "    second_last_event_type = df['event_type'].iloc[-2] if len(df) > 1 else None\n",
    "    event_type_entropy = df['event_type'].value_counts(normalize=True).apply(lambda p: -p * np.log2(p)).sum()\n",
    "\n",
    "    # Выходные\n",
    "    df['weekday'] = df['event_time'].dt.weekday\n",
    "    weekend_events = df[df['weekday'] >= 5].shape[0]\n",
    "    weekday_events = df[df['weekday'] < 5].shape[0]\n",
    "\n",
    "    features = {\n",
    "        # Временные характеристики\n",
    "        'time_span_sec': time_span,\n",
    "        'events_before_app': events_before_app,\n",
    "        'events_after_app': events_after_app,\n",
    "        'avg_time_diff_sec': time_diffs.mean(),\n",
    "        'std_time_diff_sec': std_time_diff,\n",
    "        'median_time_diff_sec': median_time_diff,\n",
    "        'max_time_diff_sec': time_diffs.max(),\n",
    "        'min_time_diff_sec': time_diffs.min(),\n",
    "        'p95_time_diff_sec': p95_time_diff,\n",
    "        'avg_events_per_minute': avg_events_per_minute,\n",
    "        'time_to_first_event': time_to_first_event,\n",
    "        'time_to_last_event': time_to_last_event,\n",
    "\n",
    "        # События\n",
    "        'unique_event_types': unique_event_types,\n",
    "        'top_event_type': top_event_type,\n",
    "        'event_type_entropy': event_type_entropy,\n",
    "        'last_event_type': last_event_type,\n",
    "        'second_last_event_type': second_last_event_type,\n",
    "        **{f'event_type_count_{k}': v for k, v in event_type_counts.items()},\n",
    "\n",
    "        # Устройства\n",
    "        'unique_devices': unique_devices,\n",
    "        'device_switched': device_switched,\n",
    "        'switched_device_type': switched_device_type,\n",
    "        'most_common_device_type': most_common_device_type,\n",
    "\n",
    "        # Гео\n",
    "        'geo_jumps': geo_jumps,\n",
    "        'avg_lat_change': avg_lat_change,\n",
    "        'avg_lng_change': avg_lng_change,\n",
    "\n",
    "        # IP / язык / страна\n",
    "        'unique_ips': unique_ips,\n",
    "        'unique_languages': unique_languages,\n",
    "        'unique_platforms': unique_platforms,\n",
    "        'unique_os': unique_os,\n",
    "        'unique_versions': unique_versions,\n",
    "        'unique_countries': unique_countries,\n",
    "        'unique_regions': unique_regions,\n",
    "        'unique_cities': unique_cities,\n",
    "\n",
    "        # Сессии\n",
    "        'unique_sessions': unique_sessions,\n",
    "        'avg_session_len': avg_session_len,\n",
    "        'max_session_len': max_session_len,\n",
    "        'session_len_std': session_length_std,\n",
    "        'first_session_len': first_session_len,\n",
    "        'last_session_len': last_session_len,\n",
    "        'session_len_diff': session_len_diff,\n",
    "\n",
    "        # Время суток\n",
    "        'events_night': events_night,\n",
    "        'events_day': events_day,\n",
    "        'events_evening': events_evening,\n",
    "        'most_active_hour': most_active_hour,\n",
    "\n",
    "        # Дни недели\n",
    "        'weekday_events': weekday_events,\n",
    "        'weekend_events': weekend_events,\n",
    "\n",
    "        'applicationid': df['applicationid'].iloc[0]\n",
    "    }\n",
    "\n",
    "    return pd.Series(features)\n"
   ]
  },
  {
   "cell_type": "code",
   "execution_count": 3,
   "id": "45dfd561",
   "metadata": {},
   "outputs": [],
   "source": [
    "from tqdm.notebook import tqdm\n",
    "\n",
    "pd.set_option('display.max_columns', None)"
   ]
  },
  {
   "cell_type": "code",
   "execution_count": 4,
   "id": "2c4854cb",
   "metadata": {},
   "outputs": [],
   "source": [
    "df1 = pd.read_parquet('./data/test_amplitude_chunk_00.parquet')\n",
    "df1['event_time'] = pd.to_datetime(df1['event_time'], utc=True)\n",
    "df1['application_date'] = pd.to_datetime(df1['application_date'], utc=True)\n",
    "df1['client_event_time'] = pd.to_datetime(df1['client_event_time'], utc=True)\n",
    "\n",
    "drop_cols = []\n",
    "for col in df1.columns:\n",
    "    if df1[col].isna().sum() == df1.shape[0]:\n",
    "        df1.drop([col], axis=1, inplace=True)\n",
    "        drop_cols.append(col)"
   ]
  },
  {
   "cell_type": "code",
   "execution_count": 5,
   "id": "8d60bd00",
   "metadata": {},
   "outputs": [
    {
     "data": {
      "text/plain": [
       "['device_brand',\n",
       " 'device_manufacturer',\n",
       " 'device_model',\n",
       " 'global_user_properties',\n",
       " 'partner_id',\n",
       " 'user_creation_time']"
      ]
     },
     "execution_count": 5,
     "metadata": {},
     "output_type": "execute_result"
    }
   ],
   "source": [
    "drop_cols\n"
   ]
  },
  {
   "cell_type": "code",
   "execution_count": 4,
   "id": "916b31b8",
   "metadata": {},
   "outputs": [
    {
     "data": {
      "application/vnd.jupyter.widget-view+json": {
       "model_id": "2bb807772379489ca7670e5a1b169694",
       "version_major": 2,
       "version_minor": 0
      },
      "text/plain": [
       "  0%|          | 0/5000 [00:00<?, ?it/s]"
      ]
     },
     "metadata": {},
     "output_type": "display_data"
    }
   ],
   "source": [
    "arr_features = []\n",
    "for app_id in tqdm(df1['applicationid'].unique()):\n",
    "    data = df1[df1['applicationid'] == app_id].copy()\n",
    "    features = create_application_features(data)\n",
    "    arr_features.append(features)"
   ]
  },
  {
   "cell_type": "code",
   "execution_count": 12,
   "id": "36940f62",
   "metadata": {},
   "outputs": [],
   "source": [
    "new_data = pd.DataFrame(arr_features)"
   ]
  },
  {
   "cell_type": "code",
   "execution_count": 13,
   "id": "aa10543a",
   "metadata": {},
   "outputs": [],
   "source": [
    "new_data = pd.DataFrame(arr_features)\n",
    "new_data.to_parquet('./data_features/new_test_with_features_0.parquet')"
   ]
  },
  {
   "cell_type": "code",
   "execution_count": 14,
   "id": "238f1096",
   "metadata": {},
   "outputs": [],
   "source": [
    "df1 = pd.read_parquet('./data/test_amplitude_chunk_01.parquet')\n",
    "df1['event_time'] = pd.to_datetime(df1['event_time'], utc=True)\n",
    "df1['application_date'] = pd.to_datetime(df1['application_date'], utc=True)\n",
    "df1['client_event_time'] = pd.to_datetime(df1['client_event_time'], utc=True)\n",
    "\n",
    "\n",
    "for col in df1.columns:\n",
    "    if df1[col].isna().sum() == df1.shape[0]:\n",
    "        df1.drop([col], axis=1, inplace=True)"
   ]
  },
  {
   "cell_type": "code",
   "execution_count": 15,
   "id": "3db3edce",
   "metadata": {},
   "outputs": [
    {
     "data": {
      "application/vnd.jupyter.widget-view+json": {
       "model_id": "df5c2e30ebab4e428dd523802294fd2b",
       "version_major": 2,
       "version_minor": 0
      },
      "text/plain": [
       "  0%|          | 0/403 [00:00<?, ?it/s]"
      ]
     },
     "metadata": {},
     "output_type": "display_data"
    }
   ],
   "source": [
    "arr_features = []\n",
    "for app_id in tqdm(df1['applicationid'].unique()):\n",
    "    data = df1[df1['applicationid'] == app_id].copy()\n",
    "    features = create_application_features(data)\n",
    "    arr_features.append(features)"
   ]
  },
  {
   "cell_type": "code",
   "execution_count": 16,
   "id": "25ba09b3",
   "metadata": {},
   "outputs": [],
   "source": [
    "new_data = pd.DataFrame(arr_features)\n",
    "new_data.to_parquet('./data_features/new_test_with_features_1.parquet')"
   ]
  },
  {
   "cell_type": "code",
   "execution_count": 19,
   "id": "06070e13",
   "metadata": {},
   "outputs": [
    {
     "data": {
      "text/plain": [
       "Index(['events_night'], dtype='object')"
      ]
     },
     "execution_count": 19,
     "metadata": {},
     "output_type": "execute_result"
    }
   ],
   "source": [
    "new_data.columns[new_data.columns.str.contains('night')]"
   ]
  },
  {
   "cell_type": "markdown",
   "id": "4556a7ad",
   "metadata": {},
   "source": [
    "# TO DO"
   ]
  },
  {
   "cell_type": "code",
   "execution_count": 21,
   "id": "194afc67",
   "metadata": {},
   "outputs": [],
   "source": [
    "df1 = pd.read_parquet('./data/train_amplitude_chunk_01.parquet')\n",
    "df1['event_time'] = pd.to_datetime(df1['event_time'], utc=True)\n",
    "df1['application_date'] = pd.to_datetime(df1['application_date'], utc=True)\n",
    "df1['client_event_time'] = pd.to_datetime(df1['client_event_time'], utc=True)\n",
    "\n",
    "\n",
    "for col in df1.columns:\n",
    "    if df1[col].isna().sum() == df1.shape[0]:\n",
    "        df1.drop([col], axis=1, inplace=True)"
   ]
  },
  {
   "cell_type": "code",
   "execution_count": 22,
   "id": "8f7c8c2c",
   "metadata": {},
   "outputs": [
    {
     "data": {
      "application/vnd.jupyter.widget-view+json": {
       "model_id": "0644d0cff982403b8a14a39f772d33cc",
       "version_major": 2,
       "version_minor": 0
      },
      "text/plain": [
       "  0%|          | 0/5000 [00:00<?, ?it/s]"
      ]
     },
     "metadata": {},
     "output_type": "display_data"
    }
   ],
   "source": [
    "arr_features = []\n",
    "for app_id in tqdm(df1['applicationid'].unique()):\n",
    "    data = df1[df1['applicationid'] == app_id].copy()\n",
    "    features = create_application_features(data)\n",
    "    arr_features.append(features)"
   ]
  },
  {
   "cell_type": "code",
   "execution_count": 24,
   "id": "5ea1bc79",
   "metadata": {},
   "outputs": [],
   "source": [
    "new_data = pd.DataFrame(arr_features)\n",
    "new_data.to_parquet('./data_features/new_train_data_with_features_amplituda_1.parquet')"
   ]
  },
  {
   "cell_type": "code",
   "execution_count": 25,
   "id": "262b7992",
   "metadata": {},
   "outputs": [
    {
     "data": {
      "application/vnd.jupyter.widget-view+json": {
       "model_id": "fe35e34235914f21b5b1dd6384b7fdce",
       "version_major": 2,
       "version_minor": 0
      },
      "text/plain": [
       "  0%|          | 0/5000 [00:00<?, ?it/s]"
      ]
     },
     "metadata": {},
     "output_type": "display_data"
    }
   ],
   "source": [
    "df1 = pd.read_parquet('./data/train_amplitude_chunk_00.parquet')\n",
    "df1['event_time'] = pd.to_datetime(df1['event_time'], utc=True)\n",
    "df1['application_date'] = pd.to_datetime(df1['application_date'], utc=True)\n",
    "df1['client_event_time'] = pd.to_datetime(df1['client_event_time'], utc=True)\n",
    "\n",
    "\n",
    "for col in df1.columns:\n",
    "    if df1[col].isna().sum() == df1.shape[0]:\n",
    "        df1.drop([col], axis=1, inplace=True)\n",
    "\n",
    "arr_features = []\n",
    "for app_id in tqdm(df1['applicationid'].unique()):\n",
    "    data = df1[df1['applicationid'] == app_id].copy()\n",
    "    features = create_application_features(data)\n",
    "    arr_features.append(features)\n",
    "\n",
    "new_data = pd.DataFrame(arr_features)\n",
    "new_data.to_parquet('./data_features/new_train_data_with_features_amplituda_0.parquet')"
   ]
  },
  {
   "cell_type": "code",
   "execution_count": 26,
   "id": "e58ac3e0",
   "metadata": {},
   "outputs": [
    {
     "data": {
      "application/vnd.jupyter.widget-view+json": {
       "model_id": "6933bc08a9134849b850809f96e381b2",
       "version_major": 2,
       "version_minor": 0
      },
      "text/plain": [
       "  0%|          | 0/3439 [00:00<?, ?it/s]"
      ]
     },
     "metadata": {},
     "output_type": "display_data"
    }
   ],
   "source": [
    "df1 = pd.read_parquet('./data/train_amplitude_chunk_02.parquet')\n",
    "df1['event_time'] = pd.to_datetime(df1['event_time'], utc=True)\n",
    "df1['application_date'] = pd.to_datetime(df1['application_date'], utc=True)\n",
    "df1['client_event_time'] = pd.to_datetime(df1['client_event_time'], utc=True)\n",
    "\n",
    "\n",
    "for col in df1.columns:\n",
    "    if df1[col].isna().sum() == df1.shape[0]:\n",
    "        df1.drop([col], axis=1, inplace=True)\n",
    "\n",
    "arr_features = []\n",
    "for app_id in tqdm(df1['applicationid'].unique()):\n",
    "    data = df1[df1['applicationid'] == app_id].copy()\n",
    "    features = create_application_features(data)\n",
    "    arr_features.append(features)\n",
    "\n",
    "new_data = pd.DataFrame(arr_features)\n",
    "new_data.to_parquet('./data_features/new_train_data_with_features_amplituda_2.parquet')"
   ]
  },
  {
   "cell_type": "markdown",
   "id": "cf0377cc",
   "metadata": {},
   "source": [
    "День ночь по логам"
   ]
  },
  {
   "cell_type": "markdown",
   "id": "c27a46cd",
   "metadata": {},
   "source": []
  }
 ],
 "metadata": {
  "kernelspec": {
   "display_name": "base",
   "language": "python",
   "name": "python3"
  },
  "language_info": {
   "codemirror_mode": {
    "name": "ipython",
    "version": 3
   },
   "file_extension": ".py",
   "mimetype": "text/x-python",
   "name": "python",
   "nbconvert_exporter": "python",
   "pygments_lexer": "ipython3",
   "version": "3.11.7"
  }
 },
 "nbformat": 4,
 "nbformat_minor": 5
}
