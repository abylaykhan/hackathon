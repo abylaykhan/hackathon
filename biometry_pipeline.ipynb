{
 "cells": [
  {
   "cell_type": "code",
   "execution_count": 38,
   "id": "91ac0aac",
   "metadata": {},
   "outputs": [],
   "source": [
    "import os\n",
    "import torch\n",
    "from torch import nn, optim\n",
    "from torch.utils.data import DataLoader, random_split\n",
    "from torchvision import datasets, models, transforms\n",
    "from sklearn.model_selection import train_test_split\n",
    "import numpy as np\n",
    "from torch.utils.data import Subset\n",
    "import matplotlib.pyplot as plt\n",
    "\n",
    "import pickle\n"
   ]
  },
  {
   "cell_type": "code",
   "execution_count": 39,
   "id": "1fdb05a4",
   "metadata": {},
   "outputs": [],
   "source": [
    "device = torch.device('cuda')"
   ]
  },
  {
   "cell_type": "code",
   "execution_count": 3,
   "id": "45661271",
   "metadata": {},
   "outputs": [],
   "source": [
    "transform = transforms.Compose([\n",
    "    transforms.Resize((128, 128)),   # изменим размер изображений\n",
    "    transforms.ToTensor(),           # преобразуем изображения в тензоры\n",
    "    transforms.Normalize(mean=[0.485, 0.456, 0.406], std=[0.229, 0.224, 0.225])  # нормализация по стандартам ImageNet\n",
    "])\n"
   ]
  },
  {
   "cell_type": "code",
   "execution_count": 4,
   "id": "0a3bf9e6",
   "metadata": {},
   "outputs": [],
   "source": [
    "data_dir = 'biometry/antifrod_biometry_dataset_publish/train'\n",
    "\n",
    "# Загружаем все данные с трансформациями\n",
    "full_dataset = datasets.ImageFolder(root=data_dir, transform=transform)\n",
    "\n",
    "# Разделим класс 0 и класс 1\n",
    "class_0_indices = [i for i, target in enumerate(full_dataset.targets) if target == 0]\n",
    "class_1_indices = [i for i, target in enumerate(full_dataset.targets) if target == 1]\n",
    "\n",
    "# Оставляем только 20% из класса 0 и все данные из класса 1\n",
    "class_0_subset = class_0_indices[:len(class_0_indices)//5]  # 20% данных класса 0\n",
    "class_1_subset = class_1_indices  # все данные класса 1\n",
    "\n",
    "# Собираем финальный набор данных\n",
    "final_indices = class_0_subset + class_1_subset\n",
    "subset_data = Subset(full_dataset, final_indices)\n",
    "\n",
    "# Разделяем данные на train и validation\n",
    "train_size = int(0.8 * len(subset_data))\n",
    "val_size = len(subset_data) - train_size\n",
    "train_data, val_data = random_split(subset_data, [train_size, val_size])\n",
    "\n",
    "# # Даталоадеры\n",
    "# train_loader = DataLoader(train_data, batch_size=16, shuffle=True)\n",
    "# val_loader = DataLoader(val_data, batch_size=16, shuffle=False)\n"
   ]
  },
  {
   "cell_type": "code",
   "execution_count": 5,
   "id": "c91d393f",
   "metadata": {},
   "outputs": [],
   "source": [
    "# Указываем количество потоков для загрузки данных\n",
    "train_loader = DataLoader(train_data, batch_size=32, shuffle=True, num_workers=4)\n",
    "val_loader = DataLoader(val_data, batch_size=32, shuffle=False, num_workers=4)\n"
   ]
  },
  {
   "cell_type": "code",
   "execution_count": 6,
   "id": "c24c7c27",
   "metadata": {},
   "outputs": [
    {
     "name": "stderr",
     "output_type": "stream",
     "text": [
      "/opt/anaconda/envs/py311/lib/python3.11/site-packages/torchvision/models/_utils.py:208: UserWarning: The parameter 'pretrained' is deprecated since 0.13 and may be removed in the future, please use 'weights' instead.\n",
      "  warnings.warn(\n",
      "/opt/anaconda/envs/py311/lib/python3.11/site-packages/torchvision/models/_utils.py:223: UserWarning: Arguments other than a weight enum or `None` for 'weights' are deprecated since 0.13 and may be removed in the future. The current behavior is equivalent to passing `weights=MobileNet_V2_Weights.IMAGENET1K_V1`. You can also use `weights=MobileNet_V2_Weights.DEFAULT` to get the most up-to-date weights.\n",
      "  warnings.warn(msg)\n"
     ]
    }
   ],
   "source": [
    "from torchvision import models\n",
    "\n",
    "# Используем MobileNetV2 (легкая модель)\n",
    "model = models.mobilenet_v2(pretrained=True)\n",
    "\n",
    "# Заменяем последний слой на классификатор с двумя выходами\n",
    "model.classifier[1] = nn.Linear(model.classifier[1].in_features, 2)\n",
    "\n",
    "# Переносим модель на GPU, если доступен\n",
    "device = torch.device(\"cuda\" if torch.cuda.is_available() else \"cpu\")\n",
    "model = model.to(device)\n"
   ]
  },
  {
   "cell_type": "code",
   "execution_count": 7,
   "id": "e4c56165",
   "metadata": {},
   "outputs": [],
   "source": [
    "criterion = nn.CrossEntropyLoss()  # кросс-энтропия для классификации\n",
    "optimizer = optim.Adam(model.parameters(), lr=0.001)\n"
   ]
  },
  {
   "cell_type": "code",
   "execution_count": 10,
   "id": "7b2c94e8",
   "metadata": {},
   "outputs": [
    {
     "data": {
      "application/vnd.jupyter.widget-view+json": {
       "model_id": "4fe82c49031244f5b764d7c7dc03451b",
       "version_major": 2,
       "version_minor": 0
      },
      "text/plain": [
       "  0%|          | 0/311 [00:00<?, ?it/s]"
      ]
     },
     "metadata": {},
     "output_type": "display_data"
    },
    {
     "name": "stdout",
     "output_type": "stream",
     "text": [
      "Epoch 1/5 => Train Loss: 0.0809, Val Loss: 0.0609, Val Accuracy: 0.9760\n"
     ]
    },
    {
     "data": {
      "application/vnd.jupyter.widget-view+json": {
       "model_id": "53530706a1ee446aacad74f7b536a648",
       "version_major": 2,
       "version_minor": 0
      },
      "text/plain": [
       "  0%|          | 0/311 [00:00<?, ?it/s]"
      ]
     },
     "metadata": {},
     "output_type": "display_data"
    },
    {
     "name": "stdout",
     "output_type": "stream",
     "text": [
      "Epoch 2/5 => Train Loss: 0.0506, Val Loss: 0.0512, Val Accuracy: 0.9802\n"
     ]
    },
    {
     "data": {
      "application/vnd.jupyter.widget-view+json": {
       "model_id": "0a0358bce37d460990eb485c0e0f9159",
       "version_major": 2,
       "version_minor": 0
      },
      "text/plain": [
       "  0%|          | 0/311 [00:00<?, ?it/s]"
      ]
     },
     "metadata": {},
     "output_type": "display_data"
    },
    {
     "name": "stdout",
     "output_type": "stream",
     "text": [
      "Epoch 3/5 => Train Loss: 0.0405, Val Loss: 0.0678, Val Accuracy: 0.9758\n"
     ]
    },
    {
     "data": {
      "application/vnd.jupyter.widget-view+json": {
       "model_id": "629628c4db7a4ec48f7f4e651e02e53d",
       "version_major": 2,
       "version_minor": 0
      },
      "text/plain": [
       "  0%|          | 0/311 [00:00<?, ?it/s]"
      ]
     },
     "metadata": {},
     "output_type": "display_data"
    },
    {
     "name": "stdout",
     "output_type": "stream",
     "text": [
      "Epoch 4/5 => Train Loss: 0.0318, Val Loss: 0.0244, Val Accuracy: 0.9918\n"
     ]
    },
    {
     "data": {
      "application/vnd.jupyter.widget-view+json": {
       "model_id": "84a749a7518c41e4adda5cfcfee3b0e1",
       "version_major": 2,
       "version_minor": 0
      },
      "text/plain": [
       "  0%|          | 0/311 [00:00<?, ?it/s]"
      ]
     },
     "metadata": {},
     "output_type": "display_data"
    },
    {
     "name": "stdout",
     "output_type": "stream",
     "text": [
      "Epoch 5/5 => Train Loss: 0.0277, Val Loss: 0.0488, Val Accuracy: 0.9838\n"
     ]
    }
   ],
   "source": [
    "num_epochs = 5\n",
    "\n",
    "def train_model(model, train_loader, val_loader, criterion, optimizer, num_epochs=5):\n",
    "    for epoch in range(num_epochs):\n",
    "        model.train()\n",
    "        running_loss = 0.0\n",
    "        \n",
    "        # Тренировка\n",
    "        for inputs, labels in train_loader:\n",
    "            inputs, labels = inputs.to(device), labels.to(device)\n",
    "            \n",
    "            optimizer.zero_grad()\n",
    "            outputs = model(inputs)\n",
    "            loss = criterion(outputs, labels)\n",
    "            loss.backward()\n",
    "            optimizer.step()\n",
    "            \n",
    "            running_loss += loss.item()\n",
    "        \n",
    "        # Проверка на валидации\n",
    "        model.eval()\n",
    "        val_loss = 0.0\n",
    "        correct = 0\n",
    "        total = 0\n",
    "        with torch.no_grad():\n",
    "            for inputs, labels in tqdm(val_loader):\n",
    "                inputs, labels = inputs.to(device), labels.to(device)\n",
    "                outputs = model(inputs)\n",
    "                loss = criterion(outputs, labels)\n",
    "                \n",
    "                val_loss += loss.item()\n",
    "                \n",
    "                _, predicted = torch.max(outputs, 1)\n",
    "                total += labels.size(0)\n",
    "                correct += (predicted == labels).sum().item()\n",
    "        \n",
    "        epoch_loss = running_loss / len(train_loader)\n",
    "        epoch_val_loss = val_loss / len(val_loader)\n",
    "        epoch_accuracy = correct / total\n",
    "        \n",
    "        print(f\"Epoch {epoch+1}/{num_epochs} => \"\n",
    "              f\"Train Loss: {epoch_loss:.4f}, Val Loss: {epoch_val_loss:.4f}, Val Accuracy: {epoch_accuracy:.4f}\")\n",
    "        \n",
    "train_model(model, train_loader, val_loader, criterion, optimizer, num_epochs=5)\n"
   ]
  },
  {
   "cell_type": "code",
   "execution_count": 14,
   "id": "4cf4d0ab",
   "metadata": {},
   "outputs": [],
   "source": [
    "import torch.nn.functional as F\n",
    "\n",
    "def get_probabilities(model, data_loader):\n",
    "    model.eval()\n",
    "    probs = []\n",
    "    true_labels = []\n",
    "    \n",
    "    with torch.no_grad():\n",
    "        for inputs, labels in data_loader:\n",
    "            inputs = inputs.to(device)\n",
    "            outputs = model(inputs)\n",
    "            probabilities = F.softmax(outputs, dim=1)  # Преобразуем в вероятности\n",
    "            probs.extend(probabilities.cpu().numpy())\n",
    "            true_labels.extend(labels.numpy())\n",
    "    \n",
    "    return probs, true_labels\n"
   ]
  },
  {
   "cell_type": "code",
   "execution_count": 18,
   "id": "e0d700b8",
   "metadata": {},
   "outputs": [],
   "source": [
    "from sklearn.metrics import accuracy_score, precision_score, recall_score, f1_score, classification_report\n",
    "\n",
    "# Получаем предсказания\n",
    "y_pred, y_true = get_probabilities(model, val_loader)\n",
    "\n",
    "# # Метрики\n",
    "# print(\"Accuracy:\", accuracy_score(y_true, y_pred))\n",
    "# print(\"Precision:\", precision_score(y_true, y_pred, average='macro'))  # 'macro' или 'weighted'\n",
    "# print(\"Recall:\", recall_score(y_true, y_pred, average='macro'))\n",
    "# print(\"F1 Score:\", f1_score(y_true, y_pred, average='macro'))\n",
    "\n",
    "# # Полный отчёт\n",
    "# print(\"\\nClassification Report:\\n\", classification_report(y_true, y_pred))\n"
   ]
  },
  {
   "cell_type": "code",
   "execution_count": 20,
   "id": "936dd8bd",
   "metadata": {},
   "outputs": [],
   "source": [
    "from sklearn.metrics import roc_auc_score"
   ]
  },
  {
   "cell_type": "code",
   "execution_count": 30,
   "id": "dc7a1b87",
   "metadata": {},
   "outputs": [
    {
     "data": {
      "text/plain": [
       "0.996002433875815"
      ]
     },
     "execution_count": 30,
     "metadata": {},
     "output_type": "execute_result"
    }
   ],
   "source": [
    "roc_auc_score(y_true, np.array(y_pred)[:, 1])"
   ]
  },
  {
   "cell_type": "code",
   "execution_count": 32,
   "id": "bc24e27c",
   "metadata": {},
   "outputs": [],
   "source": [
    "from sklearn.metrics import precision_recall_curve, auc"
   ]
  },
  {
   "cell_type": "code",
   "execution_count": 33,
   "id": "a774f1ee",
   "metadata": {},
   "outputs": [],
   "source": [
    "def pr_auc(y, pred):\n",
    "    precision, recall, _ = precision_recall_curve(y, pred)\n",
    "    return auc(recall, precision)"
   ]
  },
  {
   "cell_type": "code",
   "execution_count": 34,
   "id": "345601d6",
   "metadata": {},
   "outputs": [
    {
     "data": {
      "text/plain": [
       "0.9765331843999076"
      ]
     },
     "execution_count": 34,
     "metadata": {},
     "output_type": "execute_result"
    }
   ],
   "source": [
    "pr_auc(y_true, np.array(y_pred)[:, 1])"
   ]
  },
  {
   "cell_type": "code",
   "execution_count": 35,
   "id": "fa2621ed",
   "metadata": {},
   "outputs": [
    {
     "data": {
      "text/plain": [
       "9936"
      ]
     },
     "execution_count": 35,
     "metadata": {},
     "output_type": "execute_result"
    }
   ],
   "source": [
    "len(y_true)"
   ]
  },
  {
   "cell_type": "code",
   "execution_count": 37,
   "id": "c5460bea",
   "metadata": {},
   "outputs": [],
   "source": [
    "pickle.dump(model, open('model_biometry.pkl', 'wb'))"
   ]
  },
  {
   "cell_type": "code",
   "execution_count": null,
   "id": "85660884",
   "metadata": {},
   "outputs": [],
   "source": []
  }
 ],
 "metadata": {
  "kernelspec": {
   "display_name": "py311",
   "language": "python",
   "name": "python3"
  },
  "language_info": {
   "codemirror_mode": {
    "name": "ipython",
    "version": 3
   },
   "file_extension": ".py",
   "mimetype": "text/x-python",
   "name": "python",
   "nbconvert_exporter": "python",
   "pygments_lexer": "ipython3",
   "version": "3.11.13"
  }
 },
 "nbformat": 4,
 "nbformat_minor": 5
}
